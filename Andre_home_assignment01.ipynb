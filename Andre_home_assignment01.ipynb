{
 "cells": [
  {
   "cell_type": "markdown",
   "metadata": {
    "colab_type": "text",
    "id": "view-in-github"
   },
   "source": [
    "<a href=\"https://colab.research.google.com/github/andrecpw/module3/blob/main/Andre_home_assignment01.ipynb\" target=\"_parent\"><img src=\"https://colab.research.google.com/assets/colab-badge.svg\" alt=\"Open In Colab\"/></a>"
   ]
  },
  {
   "cell_type": "markdown",
   "metadata": {
    "id": "1y9ZxSJHN5kp"
   },
   "source": [
    "### Home assignment 01.\n",
    "\n",
    "Your goal is to follow this notebook and complete all the steps.\n",
    "\n",
    "Please, solve all these excersises (both on python and bash) _using the remote machine_: either in jupyter notebook or using bash.\n",
    "\n",
    "We ask you to start with signing this notebook in the following cell and printing some tech information. Please, just run the second cell without any changes.\n",
    "\n",
    "Good luck!"
   ]
  },
  {
   "cell_type": "code",
   "execution_count": 1,
   "metadata": {
    "id": "ebcdoIYxN5kt"
   },
   "outputs": [],
   "source": [
    "first_name = 'André'\n",
    "last_name = 'Werner'"
   ]
  },
  {
   "cell_type": "code",
   "execution_count": 2,
   "metadata": {
    "colab": {
     "base_uri": "https://localhost:8080/"
    },
    "id": "rQz5DR56N5ku",
    "outputId": "90196e87-77f5-4bfc-c857-a20d46b44e0d"
   },
   "outputs": [
    {
     "name": "stdout",
     "output_type": "stream",
     "text": [
      "['/home/ml32020/werner_andre/module3', '/home/ml32020/werner_andre/miniconda3/envs/py3_study/lib/python38.zip', '/home/ml32020/werner_andre/miniconda3/envs/py3_study/lib/python3.8', '/home/ml32020/werner_andre/miniconda3/envs/py3_study/lib/python3.8/lib-dynload', '', '/home/ml32020/werner_andre/miniconda3/envs/py3_study/lib/python3.8/site-packages', '/home/ml32020/werner_andre/miniconda3/envs/py3_study/lib/python3.8/site-packages/IPython/extensions', '/home/ml32020/werner_andre/.ipython']\n",
      "3.8.12 (default, Oct 12 2021, 13:49:34) \n",
      "[GCC 7.5.0]\n"
     ]
    }
   ],
   "source": [
    "import sys\n",
    "print(sys.path)\n",
    "print(sys.version)"
   ]
  },
  {
   "cell_type": "markdown",
   "metadata": {
    "id": "1WPQwjrzN5kv"
   },
   "source": [
    "#### Excersise 0\n",
    "Import `this` and read the zen of Python."
   ]
  },
  {
   "cell_type": "code",
   "execution_count": 3,
   "metadata": {
    "colab": {
     "base_uri": "https://localhost:8080/"
    },
    "id": "Nr4dcggYN5kv",
    "outputId": "97c9f392-e132-44d9-9fcd-6efdcd8b750b"
   },
   "outputs": [
    {
     "name": "stdout",
     "output_type": "stream",
     "text": [
      "The Zen of Python, by Tim Peters\n",
      "\n",
      "Beautiful is better than ugly.\n",
      "Explicit is better than implicit.\n",
      "Simple is better than complex.\n",
      "Complex is better than complicated.\n",
      "Flat is better than nested.\n",
      "Sparse is better than dense.\n",
      "Readability counts.\n",
      "Special cases aren't special enough to break the rules.\n",
      "Although practicality beats purity.\n",
      "Errors should never pass silently.\n",
      "Unless explicitly silenced.\n",
      "In the face of ambiguity, refuse the temptation to guess.\n",
      "There should be one-- and preferably only one --obvious way to do it.\n",
      "Although that way may not be obvious at first unless you're Dutch.\n",
      "Now is better than never.\n",
      "Although never is often better than *right* now.\n",
      "If the implementation is hard to explain, it's a bad idea.\n",
      "If the implementation is easy to explain, it may be a good idea.\n",
      "Namespaces are one honking great idea -- let's do more of those!\n"
     ]
    }
   ],
   "source": [
    "# YOUR CODE HERE\n",
    "import this"
   ]
  },
  {
   "cell_type": "code",
   "execution_count": 4,
   "metadata": {
    "id": "8V57I6PpN5kv"
   },
   "outputs": [],
   "source": [
    "student_has_read_zen_of_python = True\n",
    "assert student_has_read_zen_of_python"
   ]
  },
  {
   "cell_type": "markdown",
   "metadata": {
    "id": "IcKXL0EON5kw"
   },
   "source": [
    "#### Excersise 1\n",
    "\n",
    "Read the docs on `isinstance` method and check whether the following objects belong to the proposed types (hint: `isinstance`).\n",
    "\n",
    "Additional excersise: visualize this correspondance matrix (object – type), e.g. using numpy and [pcolormesh](https://matplotlib.org/stable/api/_as_gen/matplotlib.pyplot.pcolormesh.html) for visualization."
   ]
  },
  {
   "cell_type": "code",
   "execution_count": 5,
   "metadata": {
    "id": "n2DdWiAbN5kx"
   },
   "outputs": [],
   "source": [
    "list_of_objects = [\n",
    "    int,\n",
    "    2,\n",
    "    2.,\n",
    "    None,\n",
    "    object,\n",
    "    str,\n",
    "    str(2.),\n",
    "    float('2.0'),\n",
    "    'hello',\n",
    "    \"this\",\n",
    "    dict,\n",
    "    list,\n",
    "    [dict],\n",
    "    {1: []}\n",
    "]\n",
    "\n",
    "list_of_types = [\n",
    "    int,\n",
    "    float,\n",
    "    object,\n",
    "    str,\n",
    "    dict,\n",
    "    list\n",
    "]"
   ]
  },
  {
   "cell_type": "code",
   "execution_count": 6,
   "metadata": {
    "colab": {
     "base_uri": "https://localhost:8080/"
    },
    "id": "y2t1_oIoN5ky",
    "outputId": "60072181-986b-429b-f085-1552b44464e3"
   },
   "outputs": [
    {
     "name": "stdout",
     "output_type": "stream",
     "text": [
      "<class 'int'> is an instance of <class 'object'> or of a subclass of it.\n",
      "2 is an instance of <class 'int'> or of a subclass of it.\n",
      "2 is an instance of <class 'object'> or of a subclass of it.\n",
      "2.0 is an instance of <class 'float'> or of a subclass of it.\n",
      "2.0 is an instance of <class 'object'> or of a subclass of it.\n",
      "None is an instance of <class 'object'> or of a subclass of it.\n",
      "<class 'object'> is an instance of <class 'object'> or of a subclass of it.\n",
      "<class 'str'> is an instance of <class 'object'> or of a subclass of it.\n",
      "2.0 is an instance of <class 'object'> or of a subclass of it.\n",
      "2.0 is an instance of <class 'str'> or of a subclass of it.\n",
      "2.0 is an instance of <class 'float'> or of a subclass of it.\n",
      "2.0 is an instance of <class 'object'> or of a subclass of it.\n",
      "hello is an instance of <class 'object'> or of a subclass of it.\n",
      "hello is an instance of <class 'str'> or of a subclass of it.\n",
      "this is an instance of <class 'object'> or of a subclass of it.\n",
      "this is an instance of <class 'str'> or of a subclass of it.\n",
      "<class 'dict'> is an instance of <class 'object'> or of a subclass of it.\n",
      "<class 'list'> is an instance of <class 'object'> or of a subclass of it.\n",
      "[<class 'dict'>] is an instance of <class 'object'> or of a subclass of it.\n",
      "[<class 'dict'>] is an instance of <class 'list'> or of a subclass of it.\n",
      "{1: []} is an instance of <class 'object'> or of a subclass of it.\n",
      "{1: []} is an instance of <class 'dict'> or of a subclass of it.\n"
     ]
    }
   ],
   "source": [
    "# YOUR CODE HERE´\n",
    "for obj in list_of_objects:\n",
    "  for t in list_of_types:\n",
    "    if isinstance(obj, t):\n",
    "      print(f\"{obj} is an instance of {t} or of a subclass of it.\")"
   ]
  },
  {
   "cell_type": "markdown",
   "metadata": {
    "id": "rjQD_N77N5ky"
   },
   "source": [
    "#### Excersise 2\n",
    "\n",
    "Set quotient and remainder of 89 divided by 11 to \"a\" and \"b\" variables *"
   ]
  },
  {
   "cell_type": "code",
   "execution_count": 7,
   "metadata": {
    "colab": {
     "base_uri": "https://localhost:8080/"
    },
    "id": "sno6ppJWN5kz",
    "outputId": "41014ef2-4626-477d-9b64-0fbad25e2ae8"
   },
   "outputs": [
    {
     "name": "stdout",
     "output_type": "stream",
     "text": [
      "8.090909090909092\n",
      "1\n"
     ]
    }
   ],
   "source": [
    "# YOUR CODE HERE\n",
    "a = 89 / 11\n",
    "b = 89 % 11\n",
    "print(a)\n",
    "print(b)"
   ]
  },
  {
   "cell_type": "markdown",
   "metadata": {
    "id": "ZU0AJZi_N5kz"
   },
   "source": [
    "#### Excersise 3\n",
    "\n",
    "Calculate the next cells:\n",
    "```\n",
    "0) 10 ** 1000\n",
    "1) 1.0 / 10 ** 1000\n",
    "2) 1 / 10 ** 1000\n",
    "3) 10 ** 1000 / 1\n",
    "4) 1 / (1 / 10 ** 1000)\n",
    "```"
   ]
  },
  {
   "cell_type": "code",
   "execution_count": 8,
   "metadata": {
    "colab": {
     "base_uri": "https://localhost:8080/"
    },
    "id": "h2uMo7gIN5kz",
    "outputId": "1f43f645-8805-4098-fda3-76550aaba9b7"
   },
   "outputs": [
    {
     "name": "stdout",
     "output_type": "stream",
     "text": [
      "10000000000000000000000000000000000000000000000000000000000000000000000000000000000000000000000000000000000000000000000000000000000000000000000000000000000000000000000000000000000000000000000000000000000000000000000000000000000000000000000000000000000000000000000000000000000000000000000000000000000000000000000000000000000000000000000000000000000000000000000000000000000000000000000000000000000000000000000000000000000000000000000000000000000000000000000000000000000000000000000000000000000000000000000000000000000000000000000000000000000000000000000000000000000000000000000000000000000000000000000000000000000000000000000000000000000000000000000000000000000000000000000000000000000000000000000000000000000000000000000000000000000000000000000000000000000000000000000000000000000000000000000000000000000000000000000000000000000000000000000000000000000000000000000000000000000000000000000000000000000000000000000000000000000000000000000000000000000000000000000000000000000000000000000000000000000000000\n",
      "0.0\n",
      "0.0\n",
      "10000000000000000000000000000000000000000000000000000000000000000000000000000000000000000000000000000000000000000000000000000000000000000000000000000000000000000000000000000000000000000000000000000000000000000000000000000000000000000000000000000000000000000000000000000000000000000000000000000000000000000000000000000000000000000000000000000000000000000000000000000000000000000000000000000000000000000000000000000000000000000000000000000000000000000000000000000000000000000000000000000000000000000000000000000000000000000000000000000000000000000000000000000000000000000000000000000000000000000000000000000000000000000000000000000000000000000000000000000000000000000000000000000000000000000000000000000000000000000000000000000000000000000000000000000000000000000000000000000000000000000000000000000000000000000000000000000000000000000000000000000000000000000000000000000000000000000000000000000000000000000000000000000000000000000000000000000000000000000000000000000000000000000000000000000000000000000\n",
      "10000000000000000000000000000000000000000000000000000000000000000000000000000000000000000000000000000000000000000000000000000000000000000000000000000000000000000000000000000000000000000000000000000000000000000000000000000000000000000000000000000000000000000000000000000000000000000000000000000000000000000000000000000000000000000000000000000000000000000000000000000000000000000000000000000000000000000000000000000000000000000000000000000000000000000000000000000000000000000000000000000000000000000000000000000000000000000000000000000000000000000000000000000000000000000000000000000000000000000000000000000000000000000000000000000000000000000000000000000000000000000000000000000000000000000000000000000000000000000000000000000000000000000000000000000000000000000000000000000000000000000000000000000000000000000000000000000000000000000000000000000000000000000000000000000000000000000000000000000000000000000000000000000000000000000000000000000000000000000000000000000000000000000000000000000000000000000\n"
     ]
    }
   ],
   "source": [
    "# YOUR CODE HERE\n",
    "print(10 ** 1000)\n",
    "try:\n",
    "  print(1.0 / 10 ** 1000)\n",
    "except OverflowError:\n",
    "  print(1 / 10 ** 10000)\n",
    "print(1 / 10 ** 1000)\n",
    "try:\n",
    "  print(10 ** 1000 / 1)\n",
    "except OverflowError:\n",
    "  print(10 ** 1000 // 1)\n",
    "try:\n",
    "  print(1 / (1 / 10 ** 1000))\n",
    "except ZeroDivisionError:\n",
    "  print(1 * 10 ** 1000)"
   ]
  },
  {
   "cell_type": "markdown",
   "metadata": {
    "id": "rfHPJdzzN5kz"
   },
   "source": [
    "How to avoid these behaviours to receive correct results in steps 1-4?\n",
    "\n",
    "It is enough to provide your thoughts / seach the web for decisions and share the links / point to specific constructions in Python which were constructed to solve this problem."
   ]
  },
  {
   "cell_type": "code",
   "execution_count": 9,
   "metadata": {
    "id": "RSLDeFrON5k0"
   },
   "outputs": [
    {
     "name": "stdout",
     "output_type": "stream",
     "text": [
      "1E-1000\n",
      "1E-1000\n",
      "1.000000000000000000000000000E+1000\n",
      "1E+1000\n"
     ]
    }
   ],
   "source": [
    "#_Your answer here_\n",
    "from decimal import Decimal\n",
    "\n",
    "print(Decimal(1.0) / Decimal(10 ** 1000))\n",
    "print(Decimal(1) / Decimal(10 ** 1000))\n",
    "print(Decimal(10 ** 1000) / 1)\n",
    "print(Decimal(1) / Decimal(1 / Decimal(10 ** 1000)))"
   ]
  },
  {
   "cell_type": "markdown",
   "metadata": {
    "id": "udC-Mf0PN5k0"
   },
   "source": [
    "#### Excersise 4.1\n",
    "\n",
    "Check if string is a correct integer\n"
   ]
  },
  {
   "cell_type": "code",
   "execution_count": 10,
   "metadata": {
    "colab": {
     "base_uri": "https://localhost:8080/"
    },
    "id": "AgBHCCNkN5k0",
    "outputId": "270a25ac-6dfd-42b6-9ab6-c4ba9ba54402"
   },
   "outputs": [
    {
     "name": "stdout",
     "output_type": "stream",
     "text": [
      "True\n",
      "False\n"
     ]
    },
    {
     "data": {
      "text/plain": [
       "False"
      ]
     },
     "execution_count": 10,
     "metadata": {},
     "output_type": "execute_result"
    }
   ],
   "source": [
    "# YOUR CODE HERE\n",
    "print(\"12314\".isdigit())\n",
    "print(\"123d1dfs2\".isdigit())\n",
    "\"andre\".isdigit()"
   ]
  },
  {
   "cell_type": "markdown",
   "metadata": {
    "id": "ROKYIczEN5k0"
   },
   "source": [
    "#### Excersise 4.2\n",
    "\n",
    "Create a palindrom from given string. For example, \"abc\" -> \"abcba\""
   ]
  },
  {
   "cell_type": "code",
   "execution_count": 11,
   "metadata": {
    "colab": {
     "base_uri": "https://localhost:8080/",
     "height": 36
    },
    "id": "r3qdcHkUN5k1",
    "outputId": "d93379e1-2376-4510-ee99-ef737a5bd52c"
   },
   "outputs": [
    {
     "data": {
      "text/plain": [
       "'abracadabrarbadacarba'"
      ]
     },
     "execution_count": 11,
     "metadata": {},
     "output_type": "execute_result"
    }
   ],
   "source": [
    "# YOUR CODE HERE\n",
    "def create_palindrom(string):\n",
    "  reversed_string = string[::-1]\n",
    "  return string + reversed_string[1:]\n",
    "\n",
    "create_palindrom(\"abracadabra\")"
   ]
  },
  {
   "cell_type": "markdown",
   "metadata": {
    "id": "eEYjhDiEN5k1"
   },
   "source": [
    "#### Excersise 4.3\n",
    "\n",
    "User inputs one's name into \"name\" variable. One can use `lowercase`, `UPPERCASE`, or `sOmeTHingLikeThatCaSE`. You need to turn this string into regular case used with names: `Firstletterisbigothersaresmall`."
   ]
  },
  {
   "cell_type": "code",
   "execution_count": 12,
   "metadata": {
    "colab": {
     "base_uri": "https://localhost:8080/",
     "height": 36
    },
    "id": "mDRj5BLfN5k1",
    "outputId": "eebd8492-b568-4583-dbb6-454667e85186"
   },
   "outputs": [
    {
     "data": {
      "text/plain": [
       "'Andre'"
      ]
     },
     "execution_count": 12,
     "metadata": {},
     "output_type": "execute_result"
    }
   ],
   "source": [
    "name1 = 'HellOIamUsER'\n",
    "name2 = 'johndeere'\n",
    "name3 = 'FIRSTNAMELASTNAME'\n",
    "\n",
    "# YOUR CODE HERE\n",
    "def turn_to_regular_case(string):\n",
    "  return string.capitalize()\n",
    "\n",
    "turn_to_regular_case(\"anDRe\")"
   ]
  },
  {
   "cell_type": "markdown",
   "metadata": {
    "id": "yn1We1dcN5k1"
   },
   "source": [
    "#### Excersise 4.4\n",
    "\n",
    "You have a string that consists of English letters and \".\", \",\", \"-\", \"!\", \"?\", \":\", \";\" symbols. Extract all words without punctuation from this string."
   ]
  },
  {
   "cell_type": "code",
   "execution_count": 13,
   "metadata": {
    "colab": {
     "base_uri": "https://localhost:8080/",
     "height": 36
    },
    "id": "6A_6ZLIGN5k2",
    "outputId": "124f6ed2-1cf5-4dfa-cb0d-1229702012a2"
   },
   "outputs": [
    {
     "data": {
      "text/plain": [
       "'We are here to talk about ocijs oijafisd'"
      ]
     },
     "execution_count": 13,
     "metadata": {},
     "output_type": "execute_result"
    }
   ],
   "source": [
    "# YOUR CODE HERE\n",
    "def extract_words(string):\n",
    "  new_string = \"\"\n",
    "  for symbol in string:\n",
    "    if symbol == \" \":\n",
    "      new_string += symbol\n",
    "    elif symbol.isalnum():\n",
    "      new_string += symbol\n",
    "  return new_string\n",
    "\n",
    "extract_words(\"We are, here to talk about, ocijs- oijafisd\")"
   ]
  },
  {
   "cell_type": "markdown",
   "metadata": {
    "id": "vQ2MxjU2N5k2"
   },
   "source": [
    "#### Excersise 4.5\n",
    "\n",
    "Assign string `\"\"\"'''\\/'''\"\"\"` to Python variable (all 14 symbols)\n"
   ]
  },
  {
   "cell_type": "code",
   "execution_count": 14,
   "metadata": {
    "colab": {
     "base_uri": "https://localhost:8080/"
    },
    "id": "TtbUlAgUN5k2",
    "outputId": "ad219a71-fc47-4d7c-f7dc-8b1c4bbcf420"
   },
   "outputs": [
    {
     "name": "stdout",
     "output_type": "stream",
     "text": [
      "\"\"\"'''\\/'''\"\"\"\n"
     ]
    }
   ],
   "source": [
    "# YOUR CODE HERE\n",
    "\"\"\"'''\\/'''\"\"\"\n",
    "a = \"\\\"\"\n",
    "b = \"'\"\n",
    "\n",
    "variable = 3 * a + 3 * b + \"\\/\" + 3 * b + 3 * a\n",
    "print(variable)"
   ]
  },
  {
   "cell_type": "markdown",
   "metadata": {
    "id": "eXzfKxCVN5k3"
   },
   "source": [
    "#### Excersise 4.6\n",
    "\n",
    "Print pi number in a string  \"pi is approximately equal to ALMOSTPI\", where instead of ALMOSTPI you insert 22/7 with 3 digits after comma."
   ]
  },
  {
   "cell_type": "code",
   "execution_count": 15,
   "metadata": {
    "colab": {
     "base_uri": "https://localhost:8080/"
    },
    "id": "1PTiHUlpN5k3",
    "outputId": "c231c769-c308-42e7-e2cc-7b986242328c"
   },
   "outputs": [
    {
     "name": "stdout",
     "output_type": "stream",
     "text": [
      "pi is approximately equal to 3.143\n"
     ]
    }
   ],
   "source": [
    "# YOUR CODE HERE\n",
    "almostpi = round(22 / 7 , 3)\n",
    "print(f\"pi is approximately equal to {almostpi}\")"
   ]
  },
  {
   "cell_type": "markdown",
   "metadata": {
    "id": "ZuQe2cBAN5k3"
   },
   "source": [
    "#### Excersise 5\n",
    "\n",
    "You have multiline text inside string variable named `text`. Create list of lines from that text."
   ]
  },
  {
   "cell_type": "code",
   "execution_count": 16,
   "metadata": {
    "colab": {
     "base_uri": "https://localhost:8080/"
    },
    "id": "_qkbQvEcN5k3",
    "outputId": "0b372ee9-1111-4be0-bf00-ef55ba2a905d"
   },
   "outputs": [
    {
     "data": {
      "text/plain": [
       "['This is the first line',\n",
       " 'this is the second line',\n",
       " 'this is the third line',\n",
       " 'this is the fourth line',\n",
       " 'this is the fifth line']"
      ]
     },
     "execution_count": 16,
     "metadata": {},
     "output_type": "execute_result"
    }
   ],
   "source": [
    "# YOUR CODE HERE\n",
    "def separate_lines(string):\n",
    "  return string.split(\"\\n\")\n",
    "\n",
    "text = \"\"\"This is the first line\n",
    "this is the second line\n",
    "this is the third line\n",
    "this is the fourth line\n",
    "this is the fifth line\"\"\"\n",
    "\n",
    "separate_lines(text)"
   ]
  },
  {
   "cell_type": "markdown",
   "metadata": {
    "id": "gzk4bp60N5k3"
   },
   "source": [
    "#### Excersise 5\n",
    "Answer with your own words to one of the following questions. Your variant is based on your name and computed automatically in the next cell.\n",
    "\n",
    "Variant 1:\n",
    "Imagine, you are developing a vending machine. You need to keep your vending machine state: which items are presented on which shelves, how much money inside machine to give change, how much money user inserted in current time, which purchases users made etc. You need to create a data structure for that using known data types.\n",
    "\n",
    "Variant 2:\n",
    "Imagine, you are developing a messenger with direct messages, groups, different media types of messages, etc. You need to keep your messenger state in memory: all users with their data, which chats they have, etc. You need to create a data structure for that using known data types.\n",
    "\n",
    "Variant 3:\n",
    "Imagine, you are developing a staff management system for a mid-size corporation. You need to keep all organizational structure in memory: departments, employees, their personal data, positions, salaries, history of growth, who is whose boss, etc. You need to create a data structure for that using known data types."
   ]
  },
  {
   "cell_type": "code",
   "execution_count": 17,
   "metadata": {
    "colab": {
     "base_uri": "https://localhost:8080/"
    },
    "id": "PS6srPMTN5k4",
    "outputId": "d81283b6-4f07-4108-e8d8-e3ddb359e1de"
   },
   "outputs": [
    {
     "name": "stdout",
     "output_type": "stream",
     "text": [
      "Your variant is 1\n"
     ]
    }
   ],
   "source": [
    "variant = hash(' '.join([first_name, last_name])) % 3 + 1\n",
    "print(f'Your variant is {variant}')"
   ]
  },
  {
   "cell_type": "markdown",
   "metadata": {
    "id": "XxbnNzSdN5k4"
   },
   "source": [
    "Variant 1:\n",
    "For the items I would have a list of dictionaries for each shelf, and on those dictionaries I'd store the items as keys and their values would be an integer of quantity left.\n",
    "For the money inside the machine I'd have a dictionary with the keys as 5, 10, 20, 25, 50, 100, 200 for the coins and their values would be an integer with the quantity of coins.\n",
    "value_available would be just a variable that would increase as money was inserted and decrease as some item would be purchased.\n",
    "And we'd need sort of a log file that keeps track of money inserted and purchases made."
   ]
  },
  {
   "cell_type": "markdown",
   "metadata": {
    "id": "HiVL1MghN5k4"
   },
   "source": [
    "#### Excersise 6\n",
    "\n",
    "Clear your current repository (remove all useless files).\n",
    "Then create a package named `assignment01`.\n",
    "\n",
    "In the `assignment01` package you should have two `.py` files:\n",
    "\n",
    "```\n",
    "get_date.py\n",
    "get_time.py\n",
    "```\n",
    "File `get_date.py` contains only function `ding()` which returns the current date in format `yyyy-mm-dd`\n",
    "\n",
    "File `get_date.py` contains only function `dong()` which  returns the current time in 24h format `hh:mm:ss`\n",
    "\n",
    "Import these files and call the functions in the next cell."
   ]
  },
  {
   "cell_type": "code",
   "execution_count": 18,
   "metadata": {
    "id": "gtnLvyrrN5k4"
   },
   "outputs": [
    {
     "name": "stdout",
     "output_type": "stream",
     "text": [
      "2021-11-17\n",
      "19:02\n"
     ]
    }
   ],
   "source": [
    "# YOUR CODE HERE\n",
    "from assignment01 import get_date\n",
    "from assignment01 import get_time\n",
    "\n",
    "print(get_date.ding())\n",
    "print(get_time.dong())"
   ]
  },
  {
   "cell_type": "markdown",
   "metadata": {
    "id": "keKzgRtPN5k4"
   },
   "source": [
    "#### Excersise 7\n",
    "\n",
    "Create the `.gitignore` file in the current repository and enshure git will ignore jupyter notebook checkpoints (hint: check the hidden directories) and python cache."
   ]
  },
  {
   "cell_type": "markdown",
   "metadata": {
    "id": "yBL6IxpuN5k5"
   },
   "source": [
    "_Here you should interact with the command prompt_"
   ]
  },
  {
   "cell_type": "markdown",
   "metadata": {
    "id": "YMpAoGXhN5k5"
   },
   "source": [
    "#### Excersise 8\n",
    "Create folder `shell_tools` in your repository.\n",
    "\n",
    "Solve the excersises from [this lesson](https://missing.csail.mit.edu/2020/shell-tools/) from the brilliant course by MIT: https://missing.csail.mit.edu\n",
    "\n",
    "Place your solutions in the `shell_tools` directory. It should contain one file for each step except step 2 (named `step0*`) with bash commands. Step 2 already requires you to write `marco` and `polo` scripts)."
   ]
  },
  {
   "cell_type": "markdown",
   "metadata": {
    "id": "9E2ahRpVN5k5"
   },
   "source": [
    "_Here you should interact with the command prompt_"
   ]
  },
  {
   "cell_type": "markdown",
   "metadata": {
    "id": "Ctv5z40yN5k5"
   },
   "source": [
    "#### Excersise 9\n",
    "\n",
    "Move this notebook to the repository directory (unless it is already there), commit and push all updates to the remote. Thes sync it to the local machine and check that this exact notebook runs (Kernel –> Restart and run all) without any changes."
   ]
  },
  {
   "cell_type": "code",
   "execution_count": 19,
   "metadata": {
    "colab": {
     "base_uri": "https://localhost:8080/",
     "height": 132
    },
    "id": "WS7BaXKsN5k6",
    "outputId": "6ed66bdd-a812-4ec2-ed3f-ac09be115b7f"
   },
   "outputs": [],
   "source": [
    "notebook_runs_on_local_machine_without_any_changes = True\n",
    "assert notebook_runs_on_local_machine_without_any_changes"
   ]
  },
  {
   "cell_type": "markdown",
   "metadata": {
    "id": "Kgdp976sN5k6"
   },
   "source": [
    "### Sumbitting your home assignment\n",
    "Push your results to the remote repository and share the link to it in the Google Classroom.\n",
    "\n",
    "Congratulations!"
   ]
  }
 ],
 "metadata": {
  "colab": {
   "collapsed_sections": [],
   "include_colab_link": true,
   "name": "Andre_home_assignment01.ipynb",
   "provenance": []
  },
  "kernelspec": {
   "display_name": "Py3_Study",
   "language": "python",
   "name": "py3_study"
  },
  "language_info": {
   "codemirror_mode": {
    "name": "ipython",
    "version": 3
   },
   "file_extension": ".py",
   "mimetype": "text/x-python",
   "name": "python",
   "nbconvert_exporter": "python",
   "pygments_lexer": "ipython3",
   "version": "3.8.12"
  }
 },
 "nbformat": 4,
 "nbformat_minor": 1
}
