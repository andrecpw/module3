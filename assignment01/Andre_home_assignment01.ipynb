{
  "nbformat": 4,
  "nbformat_minor": 0,
  "metadata": {
    "kernelspec": {
      "display_name": "Py3 Research",
      "language": "python",
      "name": "py3_research"
    },
    "language_info": {
      "codemirror_mode": {
        "name": "ipython",
        "version": 3
      },
      "file_extension": ".py",
      "mimetype": "text/x-python",
      "name": "python",
      "nbconvert_exporter": "python",
      "pygments_lexer": "ipython3",
      "version": "3.7.7"
    },
    "colab": {
      "name": "Andre_home_assignment01.ipynb",
      "provenance": [],
      "collapsed_sections": [],
      "include_colab_link": true
    }
  },
  "cells": [
    {
      "cell_type": "markdown",
      "metadata": {
        "id": "view-in-github",
        "colab_type": "text"
      },
      "source": [
        "<a href=\"https://colab.research.google.com/github/andrecpw/module3/blob/main/Andre_home_assignment01.ipynb\" target=\"_parent\"><img src=\"https://colab.research.google.com/assets/colab-badge.svg\" alt=\"Open In Colab\"/></a>"
      ]
    },
    {
      "cell_type": "markdown",
      "metadata": {
        "id": "1y9ZxSJHN5kp"
      },
      "source": [
        "### Home assignment 01.\n",
        "\n",
        "Your goal is to follow this notebook and complete all the steps.\n",
        "\n",
        "Please, solve all these excersises (both on python and bash) _using the remote machine_: either in jupyter notebook or using bash.\n",
        "\n",
        "We ask you to start with signing this notebook in the following cell and printing some tech information. Please, just run the second cell without any changes.\n",
        "\n",
        "Good luck!"
      ]
    },
    {
      "cell_type": "code",
      "metadata": {
        "id": "ebcdoIYxN5kt"
      },
      "source": [
        "first_name = 'André'\n",
        "last_name = 'Werner'"
      ],
      "execution_count": 1,
      "outputs": []
    },
    {
      "cell_type": "code",
      "metadata": {
        "colab": {
          "base_uri": "https://localhost:8080/"
        },
        "id": "rQz5DR56N5ku",
        "outputId": "90196e87-77f5-4bfc-c857-a20d46b44e0d"
      },
      "source": [
        "import sys\n",
        "print(sys.path)\n",
        "print(sys.version)"
      ],
      "execution_count": 2,
      "outputs": [
        {
          "output_type": "stream",
          "name": "stdout",
          "text": [
            "['', '/content', '/env/python', '/usr/lib/python37.zip', '/usr/lib/python3.7', '/usr/lib/python3.7/lib-dynload', '/usr/local/lib/python3.7/dist-packages', '/usr/lib/python3/dist-packages', '/usr/local/lib/python3.7/dist-packages/IPython/extensions', '/root/.ipython']\n",
            "3.7.12 (default, Sep 10 2021, 00:21:48) \n",
            "[GCC 7.5.0]\n"
          ]
        }
      ]
    },
    {
      "cell_type": "markdown",
      "metadata": {
        "id": "1WPQwjrzN5kv"
      },
      "source": [
        "#### Excersise 0\n",
        "Import `this` and read the zen of Python."
      ]
    },
    {
      "cell_type": "code",
      "metadata": {
        "colab": {
          "base_uri": "https://localhost:8080/"
        },
        "id": "Nr4dcggYN5kv",
        "outputId": "97c9f392-e132-44d9-9fcd-6efdcd8b750b"
      },
      "source": [
        "# YOUR CODE HERE\n",
        "import this"
      ],
      "execution_count": 3,
      "outputs": [
        {
          "output_type": "stream",
          "name": "stdout",
          "text": [
            "The Zen of Python, by Tim Peters\n",
            "\n",
            "Beautiful is better than ugly.\n",
            "Explicit is better than implicit.\n",
            "Simple is better than complex.\n",
            "Complex is better than complicated.\n",
            "Flat is better than nested.\n",
            "Sparse is better than dense.\n",
            "Readability counts.\n",
            "Special cases aren't special enough to break the rules.\n",
            "Although practicality beats purity.\n",
            "Errors should never pass silently.\n",
            "Unless explicitly silenced.\n",
            "In the face of ambiguity, refuse the temptation to guess.\n",
            "There should be one-- and preferably only one --obvious way to do it.\n",
            "Although that way may not be obvious at first unless you're Dutch.\n",
            "Now is better than never.\n",
            "Although never is often better than *right* now.\n",
            "If the implementation is hard to explain, it's a bad idea.\n",
            "If the implementation is easy to explain, it may be a good idea.\n",
            "Namespaces are one honking great idea -- let's do more of those!\n"
          ]
        }
      ]
    },
    {
      "cell_type": "code",
      "metadata": {
        "id": "8V57I6PpN5kv"
      },
      "source": [
        "student_has_read_zen_of_python = True\n",
        "assert student_has_read_zen_of_python"
      ],
      "execution_count": 4,
      "outputs": []
    },
    {
      "cell_type": "markdown",
      "metadata": {
        "id": "IcKXL0EON5kw"
      },
      "source": [
        "#### Excersise 1\n",
        "\n",
        "Read the docs on `isinstance` method and check whether the following objects belong to the proposed types (hint: `isinstance`).\n",
        "\n",
        "Additional excersise: visualize this correspondance matrix (object – type), e.g. using numpy and [pcolormesh](https://matplotlib.org/stable/api/_as_gen/matplotlib.pyplot.pcolormesh.html) for visualization."
      ]
    },
    {
      "cell_type": "code",
      "metadata": {
        "id": "n2DdWiAbN5kx"
      },
      "source": [
        "list_of_objects = [\n",
        "    int,\n",
        "    2,\n",
        "    2.,\n",
        "    None,\n",
        "    object,\n",
        "    str,\n",
        "    str(2.),\n",
        "    float('2.0'),\n",
        "    'hello',\n",
        "    \"this\",\n",
        "    dict,\n",
        "    list,\n",
        "    [dict],\n",
        "    {1: []}\n",
        "]\n",
        "\n",
        "list_of_types = [\n",
        "    int,\n",
        "    float,\n",
        "    object,\n",
        "#    module,\n",
        "    str,\n",
        "    dict,\n",
        "    list\n",
        "]"
      ],
      "execution_count": 5,
      "outputs": []
    },
    {
      "cell_type": "code",
      "metadata": {
        "id": "y2t1_oIoN5ky",
        "colab": {
          "base_uri": "https://localhost:8080/"
        },
        "outputId": "60072181-986b-429b-f085-1552b44464e3"
      },
      "source": [
        "# YOUR CODE HERE´\n",
        "for obj in list_of_objects:\n",
        "  for t in list_of_types:\n",
        "    if isinstance(obj, t):\n",
        "      print(f\"{obj} is an instance of {t} or of a subclass of it.\")"
      ],
      "execution_count": 6,
      "outputs": [
        {
          "output_type": "stream",
          "name": "stdout",
          "text": [
            "<class 'int'> is an instance of <class 'object'> or of a subclass of it.\n",
            "2 is an instance of <class 'int'> or of a subclass of it.\n",
            "2 is an instance of <class 'object'> or of a subclass of it.\n",
            "2.0 is an instance of <class 'float'> or of a subclass of it.\n",
            "2.0 is an instance of <class 'object'> or of a subclass of it.\n",
            "None is an instance of <class 'object'> or of a subclass of it.\n",
            "<class 'object'> is an instance of <class 'object'> or of a subclass of it.\n",
            "<class 'str'> is an instance of <class 'object'> or of a subclass of it.\n",
            "2.0 is an instance of <class 'object'> or of a subclass of it.\n",
            "2.0 is an instance of <class 'str'> or of a subclass of it.\n",
            "2.0 is an instance of <class 'float'> or of a subclass of it.\n",
            "2.0 is an instance of <class 'object'> or of a subclass of it.\n",
            "hello is an instance of <class 'object'> or of a subclass of it.\n",
            "hello is an instance of <class 'str'> or of a subclass of it.\n",
            "this is an instance of <class 'object'> or of a subclass of it.\n",
            "this is an instance of <class 'str'> or of a subclass of it.\n",
            "<class 'dict'> is an instance of <class 'object'> or of a subclass of it.\n",
            "<class 'list'> is an instance of <class 'object'> or of a subclass of it.\n",
            "[<class 'dict'>] is an instance of <class 'object'> or of a subclass of it.\n",
            "[<class 'dict'>] is an instance of <class 'list'> or of a subclass of it.\n",
            "{1: []} is an instance of <class 'object'> or of a subclass of it.\n",
            "{1: []} is an instance of <class 'dict'> or of a subclass of it.\n"
          ]
        }
      ]
    },
    {
      "cell_type": "markdown",
      "metadata": {
        "id": "rjQD_N77N5ky"
      },
      "source": [
        "#### Excersise 2\n",
        "\n",
        "Set quotient and remainder of 89 divided by 11 to \"a\" and \"b\" variables *"
      ]
    },
    {
      "cell_type": "code",
      "metadata": {
        "id": "sno6ppJWN5kz",
        "colab": {
          "base_uri": "https://localhost:8080/"
        },
        "outputId": "41014ef2-4626-477d-9b64-0fbad25e2ae8"
      },
      "source": [
        "# YOUR CODE HERE\n",
        "a = 89 / 11\n",
        "b = 89 % 11\n",
        "print(a)\n",
        "print(b)"
      ],
      "execution_count": 7,
      "outputs": [
        {
          "output_type": "stream",
          "name": "stdout",
          "text": [
            "8.090909090909092\n",
            "1\n"
          ]
        }
      ]
    },
    {
      "cell_type": "markdown",
      "metadata": {
        "id": "ZU0AJZi_N5kz"
      },
      "source": [
        "#### Excersise 3\n",
        "\n",
        "Calculate the next cells:\n",
        "```\n",
        "0) 10 ** 1000\n",
        "1) 1.0 / 10 ** 1000\n",
        "2) 1 / 10 ** 1000\n",
        "3) 10 ** 1000 / 1\n",
        "4) 1 / (1 / 10 ** 1000)\n",
        "```"
      ]
    },
    {
      "cell_type": "code",
      "metadata": {
        "id": "h2uMo7gIN5kz",
        "colab": {
          "base_uri": "https://localhost:8080/"
        },
        "outputId": "1f43f645-8805-4098-fda3-76550aaba9b7"
      },
      "source": [
        "# YOUR CODE HERE\n",
        "print(10 ** 1000)\n",
        "try:\n",
        "  print(1.0 / 10 ** 1000)\n",
        "except OverflowError:\n",
        "  print(1 / 10 ** 10000)\n",
        "print(1 / 10 ** 1000)\n",
        "try:\n",
        "  print(10 ** 1000 / 1)\n",
        "except OverflowError:\n",
        "  print(10 ** 1000 // 1)\n",
        "try:\n",
        "  print(1 / (1 / 10 ** 1000))\n",
        "except ZeroDivisionError:\n",
        "  print(1 * 10 ** 1000)"
      ],
      "execution_count": 8,
      "outputs": [
        {
          "output_type": "stream",
          "name": "stdout",
          "text": [
            "10000000000000000000000000000000000000000000000000000000000000000000000000000000000000000000000000000000000000000000000000000000000000000000000000000000000000000000000000000000000000000000000000000000000000000000000000000000000000000000000000000000000000000000000000000000000000000000000000000000000000000000000000000000000000000000000000000000000000000000000000000000000000000000000000000000000000000000000000000000000000000000000000000000000000000000000000000000000000000000000000000000000000000000000000000000000000000000000000000000000000000000000000000000000000000000000000000000000000000000000000000000000000000000000000000000000000000000000000000000000000000000000000000000000000000000000000000000000000000000000000000000000000000000000000000000000000000000000000000000000000000000000000000000000000000000000000000000000000000000000000000000000000000000000000000000000000000000000000000000000000000000000000000000000000000000000000000000000000000000000000000000000000000000000000000000000000000\n",
            "0.0\n",
            "0.0\n",
            "10000000000000000000000000000000000000000000000000000000000000000000000000000000000000000000000000000000000000000000000000000000000000000000000000000000000000000000000000000000000000000000000000000000000000000000000000000000000000000000000000000000000000000000000000000000000000000000000000000000000000000000000000000000000000000000000000000000000000000000000000000000000000000000000000000000000000000000000000000000000000000000000000000000000000000000000000000000000000000000000000000000000000000000000000000000000000000000000000000000000000000000000000000000000000000000000000000000000000000000000000000000000000000000000000000000000000000000000000000000000000000000000000000000000000000000000000000000000000000000000000000000000000000000000000000000000000000000000000000000000000000000000000000000000000000000000000000000000000000000000000000000000000000000000000000000000000000000000000000000000000000000000000000000000000000000000000000000000000000000000000000000000000000000000000000000000000000\n",
            "10000000000000000000000000000000000000000000000000000000000000000000000000000000000000000000000000000000000000000000000000000000000000000000000000000000000000000000000000000000000000000000000000000000000000000000000000000000000000000000000000000000000000000000000000000000000000000000000000000000000000000000000000000000000000000000000000000000000000000000000000000000000000000000000000000000000000000000000000000000000000000000000000000000000000000000000000000000000000000000000000000000000000000000000000000000000000000000000000000000000000000000000000000000000000000000000000000000000000000000000000000000000000000000000000000000000000000000000000000000000000000000000000000000000000000000000000000000000000000000000000000000000000000000000000000000000000000000000000000000000000000000000000000000000000000000000000000000000000000000000000000000000000000000000000000000000000000000000000000000000000000000000000000000000000000000000000000000000000000000000000000000000000000000000000000000000000000\n"
          ]
        }
      ]
    },
    {
      "cell_type": "markdown",
      "metadata": {
        "id": "rfHPJdzzN5kz"
      },
      "source": [
        "How to avoid these behaviours to receive correct results in steps 1-4?\n",
        "\n",
        "It is enough to provide your thoughts / seach the web for decisions and share the links / point to specific constructions in Python which were constructed to solve this problem."
      ]
    },
    {
      "cell_type": "markdown",
      "metadata": {
        "id": "RSLDeFrON5k0"
      },
      "source": [
        "_Your answer here_\n",
        "https://docs.python.org/3/tutorial/floatingpoint.html\n"
      ]
    },
    {
      "cell_type": "markdown",
      "metadata": {
        "id": "udC-Mf0PN5k0"
      },
      "source": [
        "#### Excersise 4.1\n",
        "\n",
        "Check if string is a correct integer\n"
      ]
    },
    {
      "cell_type": "code",
      "metadata": {
        "id": "AgBHCCNkN5k0",
        "colab": {
          "base_uri": "https://localhost:8080/"
        },
        "outputId": "270a25ac-6dfd-42b6-9ab6-c4ba9ba54402"
      },
      "source": [
        "# YOUR CODE HERE\n",
        "print(\"12314\".isdigit())\n",
        "print(\"123d1dfs2\".isdigit())\n",
        "\"andre\".isdigit()"
      ],
      "execution_count": 9,
      "outputs": [
        {
          "output_type": "stream",
          "name": "stdout",
          "text": [
            "True\n",
            "False\n"
          ]
        },
        {
          "output_type": "execute_result",
          "data": {
            "text/plain": [
              "False"
            ]
          },
          "metadata": {},
          "execution_count": 9
        }
      ]
    },
    {
      "cell_type": "markdown",
      "metadata": {
        "id": "ROKYIczEN5k0"
      },
      "source": [
        "#### Excersise 4.2\n",
        "\n",
        "Create a palindrom from given string. For example, \"abc\" -> \"abcba\""
      ]
    },
    {
      "cell_type": "code",
      "metadata": {
        "id": "r3qdcHkUN5k1",
        "colab": {
          "base_uri": "https://localhost:8080/",
          "height": 36
        },
        "outputId": "d93379e1-2376-4510-ee99-ef737a5bd52c"
      },
      "source": [
        "# YOUR CODE HERE\n",
        "def create_palindrom(string):\n",
        "  reversed_string = string[::-1]\n",
        "  return string + reversed_string[1:]\n",
        "\n",
        "create_palindrom(\"abracadabra\")"
      ],
      "execution_count": 10,
      "outputs": [
        {
          "output_type": "execute_result",
          "data": {
            "application/vnd.google.colaboratory.intrinsic+json": {
              "type": "string"
            },
            "text/plain": [
              "'abracadabrarbadacarba'"
            ]
          },
          "metadata": {},
          "execution_count": 10
        }
      ]
    },
    {
      "cell_type": "markdown",
      "metadata": {
        "id": "eEYjhDiEN5k1"
      },
      "source": [
        "#### Excersise 4.3\n",
        "\n",
        "User inputs one's name into \"name\" variable. One can use `lowercase`, `UPPERCASE`, or `sOmeTHingLikeThatCaSE`. You need to turn this string into regular case used with names: `Firstletterisbigothersaresmall`."
      ]
    },
    {
      "cell_type": "code",
      "metadata": {
        "id": "mDRj5BLfN5k1",
        "colab": {
          "base_uri": "https://localhost:8080/",
          "height": 36
        },
        "outputId": "eebd8492-b568-4583-dbb6-454667e85186"
      },
      "source": [
        "name1 = 'HellOIamUsER'\n",
        "name2 = 'johndeere'\n",
        "name3 = 'FIRSTNAMELASTNAME'\n",
        "\n",
        "# YOUR CODE HERE\n",
        "def turn_to_regular_case(string):\n",
        "  return string.capitalize()\n",
        "\n",
        "turn_to_regular_case(\"anDRe\")"
      ],
      "execution_count": 11,
      "outputs": [
        {
          "output_type": "execute_result",
          "data": {
            "application/vnd.google.colaboratory.intrinsic+json": {
              "type": "string"
            },
            "text/plain": [
              "'Andre'"
            ]
          },
          "metadata": {},
          "execution_count": 11
        }
      ]
    },
    {
      "cell_type": "markdown",
      "metadata": {
        "id": "yn1We1dcN5k1"
      },
      "source": [
        "#### Excersise 4.4\n",
        "\n",
        "You have a string that consists of English letters and \".\", \",\", \"-\", \"!\", \"?\", \":\", \";\" symbols. Extract all words without punctuation from this string."
      ]
    },
    {
      "cell_type": "code",
      "metadata": {
        "id": "6A_6ZLIGN5k2",
        "colab": {
          "base_uri": "https://localhost:8080/",
          "height": 36
        },
        "outputId": "124f6ed2-1cf5-4dfa-cb0d-1229702012a2"
      },
      "source": [
        "# YOUR CODE HERE\n",
        "def extract_words(string):\n",
        "  new_string = \"\"\n",
        "  for symbol in string:\n",
        "    if symbol == \" \":\n",
        "      new_string += symbol\n",
        "    elif symbol.isalnum():\n",
        "      new_string += symbol\n",
        "  return new_string\n",
        "\n",
        "extract_words(\"We are, here to talk about, ocijs- oijafisd\")"
      ],
      "execution_count": 12,
      "outputs": [
        {
          "output_type": "execute_result",
          "data": {
            "application/vnd.google.colaboratory.intrinsic+json": {
              "type": "string"
            },
            "text/plain": [
              "'We are here to talk about ocijs oijafisd'"
            ]
          },
          "metadata": {},
          "execution_count": 12
        }
      ]
    },
    {
      "cell_type": "markdown",
      "metadata": {
        "id": "vQ2MxjU2N5k2"
      },
      "source": [
        "#### Excersise 4.5\n",
        "\n",
        "Assign string `\"\"\"'''\\/'''\"\"\"` to Python variable (all 14 symbols)\n"
      ]
    },
    {
      "cell_type": "code",
      "metadata": {
        "id": "TtbUlAgUN5k2",
        "colab": {
          "base_uri": "https://localhost:8080/"
        },
        "outputId": "ad219a71-fc47-4d7c-f7dc-8b1c4bbcf420"
      },
      "source": [
        "# YOUR CODE HERE\n",
        "\"\"\"'''\\/'''\"\"\"\n",
        "a = \"\\\"\"\n",
        "b = \"'\"\n",
        "\n",
        "variable = 3 * a + 3 * b + \"\\/\" + 3 * b + 3 * a\n",
        "print(variable)"
      ],
      "execution_count": 13,
      "outputs": [
        {
          "output_type": "stream",
          "name": "stdout",
          "text": [
            "\"\"\"'''\\/'''\"\"\"\n"
          ]
        }
      ]
    },
    {
      "cell_type": "markdown",
      "metadata": {
        "id": "eXzfKxCVN5k3"
      },
      "source": [
        "#### Excersise 4.6\n",
        "\n",
        "Print pi number in a string  \"pi is approximately equal to ALMOSTPI\", where instead of ALMOSTPI you insert 22/7 with 3 digits after comma."
      ]
    },
    {
      "cell_type": "code",
      "metadata": {
        "id": "1PTiHUlpN5k3",
        "colab": {
          "base_uri": "https://localhost:8080/"
        },
        "outputId": "c231c769-c308-42e7-e2cc-7b986242328c"
      },
      "source": [
        "# YOUR CODE HERE\n",
        "almostpi = round(22 / 7 , 3)\n",
        "print(f\"pi is approximately equal to {almostpi}\")"
      ],
      "execution_count": 14,
      "outputs": [
        {
          "output_type": "stream",
          "name": "stdout",
          "text": [
            "pi is approximately equal to 3.143\n"
          ]
        }
      ]
    },
    {
      "cell_type": "markdown",
      "metadata": {
        "id": "ZuQe2cBAN5k3"
      },
      "source": [
        "#### Excersise 5\n",
        "\n",
        "You have multiline text inside string variable named `text`. Create list of lines from that text."
      ]
    },
    {
      "cell_type": "code",
      "metadata": {
        "id": "_qkbQvEcN5k3",
        "colab": {
          "base_uri": "https://localhost:8080/"
        },
        "outputId": "0b372ee9-1111-4be0-bf00-ef55ba2a905d"
      },
      "source": [
        "# YOUR CODE HERE\n",
        "def separate_lines(string):\n",
        "  return string.split(\"\\n\")\n",
        "\n",
        "text = \"\"\"This is the first line\n",
        "this is the second line\n",
        "this is the third line\n",
        "this is the fourth line\n",
        "this is the fifth line\"\"\"\n",
        "\n",
        "separate_lines(text)"
      ],
      "execution_count": 15,
      "outputs": [
        {
          "output_type": "execute_result",
          "data": {
            "text/plain": [
              "['This is the first line',\n",
              " 'this is the second line',\n",
              " 'this is the third line',\n",
              " 'this is the fourth line',\n",
              " 'this is the fifth line']"
            ]
          },
          "metadata": {},
          "execution_count": 15
        }
      ]
    },
    {
      "cell_type": "markdown",
      "metadata": {
        "id": "gzk4bp60N5k3"
      },
      "source": [
        "#### Excersise 5\n",
        "Answer with your own words to one of the following questions. Your variant is based on your name and computed automatically in the next cell.\n",
        "\n",
        "Variant 1:\n",
        "Imagine, you are developing a vending machine. You need to keep your vending machine state: which items are presented on which shelves, how much money inside machine to give change, how much money user inserted in current time, which purchases users made etc. You need to create a data structure for that using known data types.\n",
        "\n",
        "Variant 2:\n",
        "Imagine, you are developing a messenger with direct messages, groups, different media types of messages, etc. You need to keep your messenger state in memory: all users with their data, which chats they have, etc. You need to create a data structure for that using known data types.\n",
        "\n",
        "Variant 3:\n",
        "Imagine, you are developing a staff management system for a mid-size corporation. You need to keep all organizational structure in memory: departments, employees, their personal data, positions, salaries, history of growth, who is whose boss, etc. You need to create a data structure for that using known data types."
      ]
    },
    {
      "cell_type": "code",
      "metadata": {
        "id": "PS6srPMTN5k4",
        "colab": {
          "base_uri": "https://localhost:8080/"
        },
        "outputId": "d81283b6-4f07-4108-e8d8-e3ddb359e1de"
      },
      "source": [
        "variant = hash(' '.join([first_name, last_name])) % 3 + 1\n",
        "print(f'Your variant is {variant}')"
      ],
      "execution_count": 16,
      "outputs": [
        {
          "output_type": "stream",
          "name": "stdout",
          "text": [
            "Your variant is 3\n"
          ]
        }
      ]
    },
    {
      "cell_type": "markdown",
      "metadata": {
        "id": "XxbnNzSdN5k4"
      },
      "source": [
        "_Your answer here_"
      ]
    },
    {
      "cell_type": "markdown",
      "metadata": {
        "id": "HiVL1MghN5k4"
      },
      "source": [
        "#### Excersise 6\n",
        "\n",
        "Clear your current repository (remove all useless files).\n",
        "Then create a package named `assignment01`.\n",
        "\n",
        "In the `assignment01` package you should have two `.py` files:\n",
        "\n",
        "```\n",
        "get_date.py\n",
        "get_time.py\n",
        "```\n",
        "File `get_date.py` contains only function `ding()` which returns the current date in format `yyyy-mm-dd`\n",
        "\n",
        "File `get_date.py` contains only function `dong()` which  returns the current time in 24h format `hh:mm:ss`\n",
        "\n",
        "Import these files and call the functions in the next cell."
      ]
    },
    {
      "cell_type": "code",
      "metadata": {
        "id": "gtnLvyrrN5k4"
      },
      "source": [
        "# YOUR CODE HERE\n"
      ],
      "execution_count": 17,
      "outputs": []
    },
    {
      "cell_type": "markdown",
      "metadata": {
        "id": "keKzgRtPN5k4"
      },
      "source": [
        "#### Excersise 7\n",
        "\n",
        "Create the `.gitignore` file in the current repository and enshure git will ignore jupyter notebook checkpoints (hint: check the hidden directories) and python cache."
      ]
    },
    {
      "cell_type": "markdown",
      "metadata": {
        "id": "yBL6IxpuN5k5"
      },
      "source": [
        "_Here you should interact with the command prompt_"
      ]
    },
    {
      "cell_type": "markdown",
      "metadata": {
        "id": "YMpAoGXhN5k5"
      },
      "source": [
        "#### Excersise 8\n",
        "Create folder `shell_tools` in your repository.\n",
        "\n",
        "Solve the excersises from [this lesson](https://missing.csail.mit.edu/2020/shell-tools/) from the brilliant course by MIT: https://missing.csail.mit.edu\n",
        "\n",
        "Place your solutions in the `shell_tools` directory. It should contain one file for each step except step 2 (named `step0*`) with bash commands. Step 2 already requires you to write `marco` and `polo` scripts)."
      ]
    },
    {
      "cell_type": "markdown",
      "metadata": {
        "id": "9E2ahRpVN5k5"
      },
      "source": [
        "_Here you should interact with the command prompt_"
      ]
    },
    {
      "cell_type": "markdown",
      "metadata": {
        "id": "Ctv5z40yN5k5"
      },
      "source": [
        "#### Excersise 9\n",
        "\n",
        "Move this notebook to the repository directory (unless it is already there), commit and push all updates to the remote. Thes sync it to the local machine and check that this exact notebook runs (Kernel –> Restart and run all) without any changes."
      ]
    },
    {
      "cell_type": "code",
      "metadata": {
        "id": "WS7BaXKsN5k6",
        "colab": {
          "base_uri": "https://localhost:8080/",
          "height": 132
        },
        "outputId": "6ed66bdd-a812-4ec2-ed3f-ac09be115b7f"
      },
      "source": [
        "notebook_runs_on_local_machine_without_any_changes = # True or False\n",
        "assert notebook_runs_on_local_machine_without_any_changes"
      ],
      "execution_count": 18,
      "outputs": [
        {
          "output_type": "error",
          "ename": "SyntaxError",
          "evalue": "ignored",
          "traceback": [
            "\u001b[0;36m  File \u001b[0;32m\"<ipython-input-18-54a5fd492d2c>\"\u001b[0;36m, line \u001b[0;32m1\u001b[0m\n\u001b[0;31m    notebook_runs_on_local_machine_without_any_changes = # True or False\u001b[0m\n\u001b[0m                                                                        ^\u001b[0m\n\u001b[0;31mSyntaxError\u001b[0m\u001b[0;31m:\u001b[0m invalid syntax\n"
          ]
        }
      ]
    },
    {
      "cell_type": "markdown",
      "metadata": {
        "id": "Kgdp976sN5k6"
      },
      "source": [
        "### Sumbitting your home assignment\n",
        "Push your results to the remote repository and share the link to it in the Google Classroom.\n",
        "\n",
        "Congratulations!"
      ]
    }
  ]
}